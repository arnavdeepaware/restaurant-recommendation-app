{
 "cells": [
  {
   "cell_type": "markdown",
   "metadata": {},
   "source": [
    "Getting Started"
   ]
  },
  {
   "cell_type": "code",
   "execution_count": 4,
   "metadata": {},
   "outputs": [],
   "source": [
    "# Imports\n",
    "import pandas as pd\n",
    "import random"
   ]
  },
  {
   "cell_type": "code",
   "execution_count": 5,
   "metadata": {},
   "outputs": [],
   "source": [
    "# Load the datasets\n",
    "df_restaurants = pd.read_csv('data/restaurants.csv')\n",
    "df_menus = pd.read_csv('data/restaurant-menus.csv')"
   ]
  },
  {
   "cell_type": "code",
   "execution_count": null,
   "metadata": {},
   "outputs": [],
   "source": [
    "# Preview data\n",
    "df_restaurants.head()\n",
    "df_menus.head()"
   ]
  },
  {
   "cell_type": "markdown",
   "metadata": {},
   "source": [
    "Merge the two datasets"
   ]
  },
  {
   "cell_type": "code",
   "execution_count": null,
   "metadata": {},
   "outputs": [],
   "source": [
    "#Merge two datasets\n",
    "merged_df = pd.merge(df_menus, df_restaurants, left_on='restaurant_id', right_on='id', how='inner')\n",
    "merged_df.head(30)"
   ]
  },
  {
   "cell_type": "code",
   "execution_count": 12,
   "metadata": {},
   "outputs": [],
   "source": [
    "asked_restaurants = set()\n",
    "\n",
    "# Loops until it finds a restaurant that wasn't asked about before\n",
    "def get_restaurant():\n",
    "    while True:\n",
    "        restaurant = random.choice(df_restaurants['name'])\n",
    "        if restaurant not in asked_restaurants:\n",
    "            asked_restaurants.add(restaurant)\n",
    "            return restaurant\n",
    "\n",
    "# Maybe ask for 2 things: 'category' and 'price' rather than random?\n",
    "\n",
    "# Currently, assume one user\n",
    "# Algorithm: check if user prefers restaurant (\"Do you like X?\") If so, add to preference. If not, ask again.\n",
    "\n",
    "preference_number = 10\n",
    "user_preferences = []\n",
    "\n",
    "while len(user_preferences) <= preference_number:\n",
    "    restaurant = get_restaurant()\n",
    "    prefers = input('Do you like '+restaurant+'? (y/n)')\n",
    "    if prefers == 'y':\n",
    "        user_preferences.append(restaurant)\n",
    "\n",
    "# Need to clean addresses from names.\n",
    "\n",
    "# Train model on user_preferences\n",
    "\n",
    "# Eventually, validate model and fine-tune by asking if predictions were good. If predictions were not good, go through above algorithm again, ask--and then re-train with \"updated\" user preferences."
   ]
  }
 ],
 "metadata": {
  "kernelspec": {
   "display_name": "base",
   "language": "python",
   "name": "python3"
  },
  "language_info": {
   "codemirror_mode": {
    "name": "ipython",
    "version": 3
   },
   "file_extension": ".py",
   "mimetype": "text/x-python",
   "name": "python",
   "nbconvert_exporter": "python",
   "pygments_lexer": "ipython3",
   "version": "3.12.4"
  }
 },
 "nbformat": 4,
 "nbformat_minor": 2
}
