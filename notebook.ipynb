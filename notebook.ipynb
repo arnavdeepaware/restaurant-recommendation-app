{
 "cells": [
  {
   "cell_type": "markdown",
   "metadata": {},
   "source": [
    "Getting Started"
   ]
  },
  {
   "cell_type": "code",
   "execution_count": 2,
   "metadata": {},
   "outputs": [],
   "source": [
    "# Imports\n",
    "import pandas as pd\n",
    "import random"
   ]
  },
  {
   "cell_type": "code",
   "execution_count": 1,
   "metadata": {},
   "outputs": [],
   "source": [
    "# Load the datasets\n",
    "df_restaurants = pd.read_csv('data/restaurants.csv')\n",
    "df_menus = pd.read_csv('data/restaurant-menus.csv')"
   ]
  },
  {
   "cell_type": "code",
   "execution_count": null,
   "metadata": {},
   "outputs": [],
   "source": [
    "# Preview data\n",
    "df_restaurants.head()\n",
    "df_menus.head()"
   ]
  },
  {
   "cell_type": "markdown",
   "metadata": {},
   "source": [
    "Merge the two datasets"
   ]
  },
  {
   "cell_type": "code",
   "execution_count": null,
   "metadata": {},
   "outputs": [],
   "source": [
    "#Merge two datasets\n",
    "merged_df = pd.merge(df_menus, df_restaurants, left_on='restaurant_id', right_on='id', how='inner')\n",
    "merged_df.head(30)"
   ]
  },
  {
   "cell_type": "code",
   "execution_count": null,
   "metadata": {},
   "outputs": [],
   "source": [
    "print(random.choice(df_restaurants['name']))\n",
    "\n",
    "# Maybe ask for 2 things: 'category' and 'price' rather than random?\n",
    "\n",
    "#user_preferences = []\n",
    "#while len(user_preferences) <= 10:\n",
    "#    random.choice(df_restaurants['id'])\n",
    "#    restaurant_name = df_restaurants[]\n",
    "#    print('Do you like {}')\n",
    "\n",
    "# Currently, assume one user.\n",
    "# Train model on user_preferences. \n",
    "# Then check with user, \"was this to your liking?\" If not, ask for preferences again and re-train."
   ]
  }
 ],
 "metadata": {
  "kernelspec": {
   "display_name": "base",
   "language": "python",
   "name": "python3"
  },
  "language_info": {
   "codemirror_mode": {
    "name": "ipython",
    "version": 3
   },
   "file_extension": ".py",
   "mimetype": "text/x-python",
   "name": "python",
   "nbconvert_exporter": "python",
   "pygments_lexer": "ipython3",
   "version": "3.12.4"
  }
 },
 "nbformat": 4,
 "nbformat_minor": 2
}
